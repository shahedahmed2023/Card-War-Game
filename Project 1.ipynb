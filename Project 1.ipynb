{
 "cells": [
  {
   "cell_type": "code",
   "execution_count": 9,
   "id": "41912283",
   "metadata": {},
   "outputs": [],
   "source": [
    "#\n",
    "import sys\n",
    "row1 = [' ',' ',' ']\n",
    "row2 = [' ',' ',' ']\n",
    "row3 = [' ',' ',' '] "
   ]
  },
  {
   "cell_type": "code",
   "execution_count": 10,
   "id": "b7045413",
   "metadata": {},
   "outputs": [],
   "source": [
    "def display(row1,row2,row3):\n",
    "    print(row1)\n",
    "    print(row2)\n",
    "    print(row3)\n",
    "    \n",
    "    \n",
    "    "
   ]
  },
  {
   "cell_type": "code",
   "execution_count": 11,
   "id": "d1249edb",
   "metadata": {},
   "outputs": [],
   "source": [
    "\n",
    "def Position_calculate(Row ,Get_position , Player_ID):\n",
    "     global row1\n",
    "     global row2\n",
    "     global row3\n",
    "     symbol = ''\n",
    "     if Player_ID == 1:\n",
    "            symbol = 'O'\n",
    "     elif Player_ID == 2:\n",
    "            symbol = 'X'\n",
    "     else:\n",
    "            pass\n",
    "    \n",
    "     if Row == 1:\n",
    "            if row1[Get_position] == 'X' or row1[Get_position] == 'O' :\n",
    "                sys.exit('Error')  \n",
    "                \n",
    "            else:\n",
    "                row1[Get_position] = symbol\n",
    "     if Row == 2:\n",
    "        \n",
    "        if row2[Get_position] == 'X' or row2[Get_position] == 'O' :\n",
    "            \n",
    "            sys.exit(\"Error\")  \n",
    "            \n",
    "        else:\n",
    "            row2[Get_position] = symbol\n",
    "     if Row == 3:\n",
    "        if row3[Get_position] == 'X' or row3[Get_position] == 'O' :\n",
    "            sys.exit(\"Error\")  \n",
    "            \n",
    "        else:\n",
    "            row3[Get_position] = symbol\n",
    "     win(row1,row2,row3)\n",
    "     display(row1,row2,row3)\n",
    "     \n",
    "    \n"
   ]
  },
  {
   "cell_type": "code",
   "execution_count": 19,
   "id": "e7edf070",
   "metadata": {},
   "outputs": [],
   "source": [
    "def reset_game(code):\n",
    "    global row1,row2,row3\n",
    "    if code == 1:\n",
    "        row1 = [' ',' ',' ']\n",
    "        row2 = [' ',' ',' ']\n",
    "        row3 = [' ',' ',' '] \n",
    "        Position_choice()\n",
    "    elif code == 0:\n",
    "        sys.exit(\"Game End\")\n",
    "    elif code == 171:\n",
    "        row1 = [' ',' ',' ']\n",
    "        row2 = [' ',' ',' ']\n",
    "        row3 = [' ',' ',' ']\n",
    "    else:\n",
    "        row1 = [' ',' ',' ']\n",
    "        row2 = [' ',' ',' ']\n",
    "        row3 = [' ',' ',' ']\n",
    "        \n",
    "            \n"
   ]
  },
  {
   "cell_type": "code",
   "execution_count": 20,
   "id": "45ed1f3c",
   "metadata": {},
   "outputs": [],
   "source": [
    "def Position_choice():\n",
    "    x = 1\n",
    "    print ('Player one you get O')\n",
    "    print('Player tWo you get X')\n",
    "    \n",
    "    while  x < 10:\n",
    "        \n",
    "        for Player in (1,2):\n",
    "                    if (x == 9)  and Player == 2:\n",
    "                              break\n",
    "                    ID ='Wrong'\n",
    "                    row ='wrong'\n",
    "                    position = 'wrong'\n",
    "                    ID_within_range = False\n",
    "                    row_within_range = False\n",
    "                    position_within_range = False\n",
    "                    ID = Player\n",
    "                                    \n",
    "\n",
    "                    while row.isdigit() == False or row_within_range== False:\n",
    "                                    row =input(f'Player {Player} Enter the row number: ')\n",
    "                                    if row.isdigit() == False:\n",
    "                                        print('Sorry that is not a digit!')\n",
    "                                    elif row.isdigit() == True:\n",
    "                                        if int(row) in range(1,4):\n",
    "                                            row_within_range = True\n",
    "                                        else:\n",
    "                                            print(\"Sorry you are out of acceptable range\")\n",
    "                                            row_within_range = False\n",
    "                                    \n",
    "                    \n",
    "\n",
    "\n",
    "                    while position.isdigit() == False or position_within_range == False:\n",
    "                                position = input(f'Player {Player} the position number:')\n",
    "                                if position.isdigit() == False:\n",
    "                                    print('Sorry that is not a digit!')\n",
    "                                elif position.isdigit() == True:\n",
    "                                    if int(position) in range(0,3):\n",
    "                                        position_within_range = True\n",
    "                                    else:\n",
    "                                        print(\"Sorry you are out of acceptable range\")\n",
    "                                        position_within_range = False\n",
    "                    \n",
    "                    Position_calculate(int (row) ,int (position) ,int( ID))\n",
    "\n",
    "                                    \n",
    "                                    \n",
    "        x+=2\n",
    "                                    \n",
    "              \n",
    "              \n",
    "       \n",
    "\n",
    "    \n",
    "    \n",
    "    rest_code = int(input('Enter 1 to reset the game or press any number to quit:'))\n",
    "    reset_game(rest_code)\n",
    "    \n",
    "    "
   ]
  },
  {
   "cell_type": "markdown",
   "id": "752808c2",
   "metadata": {},
   "source": [
    "\n",
    "\n",
    "#### "
   ]
  },
  {
   "cell_type": "code",
   "execution_count": 21,
   "id": "4cb86575",
   "metadata": {},
   "outputs": [],
   "source": [
    "def win(row1,row2,row3):\n",
    "    # 3 x 3 matrix winner calculate\n",
    "    count_X = 0\n",
    "    count_O = 0\n",
    "    matrix = [row1,row2,row3]\n",
    "    magic_square = [[2,7,6],[9,5,1],[4,3,8]]\n",
    "    for i in range(0,len(matrix)):\n",
    "        for j in range (0,len(matrix[i])):\n",
    "            if matrix[i][j] == 'X':\n",
    "                count_X= magic_square[i][j]\n",
    "            elif matrix[i][j] == 'O':\n",
    "                count_O += magic_square[i][j]\n",
    "            else:\n",
    "                pass\n",
    "    if count_X == 15:\n",
    "        print ('Player two You win')\n",
    "        rest_code = int(input('Enter 1 to reset the game or press any number to quit:'))\n",
    "        reset_game(rest_code)\n",
    "    elif count_O == 15:\n",
    "         print ('Player One  win')\n",
    "         rest_code = int(input('Enter 1 to reset the game or press or 0 to exit:'))\n",
    "         reset_game(rest_code)\n",
    "    else:\n",
    "        pass"
   ]
  },
  {
   "cell_type": "code",
   "execution_count": 22,
   "id": "c1dbd2a1",
   "metadata": {},
   "outputs": [],
   "source": [
    "def game_start():\n",
    "    reset_code = 171\n",
    "    print('Welcome to Tic-tac-toe')\n",
    "    start_button = int(input('Press one to 1 to start: '))\n",
    "    reset_game(171)\n",
    "    if start_button == 1:\n",
    "        \n",
    "         Position_choice()\n",
    "    else:\n",
    "        pass\n",
    "        \n",
    "    "
   ]
  },
  {
   "cell_type": "markdown",
   "id": "199709e0",
   "metadata": {},
   "source": [
    "# "
   ]
  },
  {
   "cell_type": "code",
   "execution_count": 23,
   "id": "767a3225",
   "metadata": {},
   "outputs": [
    {
     "name": "stdout",
     "output_type": "stream",
     "text": [
      "Welcome to Tic-tac-toe\n",
      "Press one to 1 to start: 1\n",
      "Player one you get O\n",
      "Player tWo you get X\n",
      "Player 1 Enter the row number: 1\n",
      "Player 1 the position number:1\n",
      "[' ', 'O', ' ']\n",
      "[' ', ' ', ' ']\n",
      "[' ', ' ', ' ']\n",
      "Player 2 Enter the row number: 2\n",
      "Player 2 the position number:1\n",
      "[' ', 'O', ' ']\n",
      "[' ', 'X', ' ']\n",
      "[' ', ' ', ' ']\n",
      "Player 1 Enter the row number: 1\n",
      "Player 1 the position number:0\n",
      "['O', 'O', ' ']\n",
      "[' ', 'X', ' ']\n",
      "[' ', ' ', ' ']\n",
      "Player 2 Enter the row number: 2\n",
      "Player 2 the position number:0\n",
      "['O', 'O', ' ']\n",
      "['X', 'X', ' ']\n",
      "[' ', ' ', ' ']\n",
      "Player 1 Enter the row number: 1\n",
      "Player 1 the position number:2\n",
      "Player One  win\n",
      "Enter 1 to reset the game or press or 0 to exit:0\n"
     ]
    },
    {
     "ename": "SystemExit",
     "evalue": "Game End",
     "output_type": "error",
     "traceback": [
      "An exception has occurred, use %tb to see the full traceback.\n",
      "\u001b[1;31mSystemExit\u001b[0m\u001b[1;31m:\u001b[0m Game End\n"
     ]
    },
    {
     "name": "stderr",
     "output_type": "stream",
     "text": [
      "C:\\Users\\Shahed ahmed\\anaconda3\\Lib\\site-packages\\IPython\\core\\interactiveshell.py:3534: UserWarning: To exit: use 'exit', 'quit', or Ctrl-D.\n",
      "  warn(\"To exit: use 'exit', 'quit', or Ctrl-D.\", stacklevel=1)\n"
     ]
    }
   ],
   "source": [
    "game_start()"
   ]
  },
  {
   "cell_type": "markdown",
   "id": "4879b063",
   "metadata": {},
   "source": [
    "# "
   ]
  }
 ],
 "metadata": {
  "kernelspec": {
   "display_name": "Python 3 (ipykernel)",
   "language": "python",
   "name": "python3"
  },
  "language_info": {
   "codemirror_mode": {
    "name": "ipython",
    "version": 3
   },
   "file_extension": ".py",
   "mimetype": "text/x-python",
   "name": "python",
   "nbconvert_exporter": "python",
   "pygments_lexer": "ipython3",
   "version": "3.11.5"
  }
 },
 "nbformat": 4,
 "nbformat_minor": 5
}
